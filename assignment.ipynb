{
 "cells": [
  {
   "cell_type": "markdown",
   "id": "23e2c2af",
   "metadata": {},
   "source": [
    "# 원티드 프리온보딩 선발과제"
   ]
  },
  {
   "cell_type": "markdown",
   "id": "b27d7acc",
   "metadata": {},
   "source": [
    "# 문제 1) Tokenizer 생성하기"
   ]
  },
  {
   "cell_type": "code",
   "execution_count": 53,
   "id": "1bfb546c",
   "metadata": {},
   "outputs": [],
   "source": [
    "import numpy as np\n",
    "from math import log as ln\n",
    "import re\n",
    "\n",
    "class Tokenizer():\n",
    "    def __init__(self):\n",
    "        self.word_dict = {'oov': 0}\n",
    "        self.fit_checker = False\n",
    "  \n",
    "    def preprocessing(self, sequences):\n",
    "        result=[]\n",
    "        '''\n",
    "        문제 1-1\n",
    "        '''\n",
    "        for sequence in sequences:\n",
    "            sentence=re.sub(r\"[^a-zA-Z0-9]\", \" \", sequence.lower()) #특수문자 제거 및 소문자 처리\n",
    "            result.append(sentence.split()) #white space\n",
    "        return result\n",
    "    \n",
    "    def fit(self, sequences):\n",
    "        self.fit_checker = False\n",
    "        '''\n",
    "        문제 1-2\n",
    "        '''\n",
    "        #토큰화\n",
    "        tokens = self.preprocessing(sequences)\n",
    "        word_dict = self.word_dict\n",
    "        \n",
    "        #word_dict\n",
    "        for token in tokens:\n",
    "            for word in token:\n",
    "                if word not in list(word_dict.keys()):\n",
    "                    word_dict[word]= len(word_dict)\n",
    "        self.word_dict = word_dict\n",
    "        self.fit_checker = True\n",
    "\n",
    "    def transform(self, sequences):\n",
    "        result = []\n",
    "        tokens = self.preprocessing(sequences)\n",
    "        if self.fit_checker:\n",
    "            '''\n",
    "            문제 1-3\n",
    "            '''\n",
    "            \n",
    "            #정수 인덱싱\n",
    "            for token in tokens:\n",
    "                word_idx=[]\n",
    "                for word in token:\n",
    "                    if word not in list(self.word_dict.keys()):\n",
    "                        word_idx.append(self.word_dict['oov'])\n",
    "                    else:\n",
    "                        word_idx.append(self.word_dict[word])\n",
    "                result.append(word_idx)\n",
    "            return result\n",
    "        else:\n",
    "            raise Exception(\"Tokenizer instance is not fitted yet.\")\n",
    "\n",
    "    def fit_transform(self, sequences):\n",
    "        self.fit(sequences)\n",
    "        result = self.transform(sequences)\n",
    "        return result\n"
   ]
  },
  {
   "cell_type": "code",
   "execution_count": 56,
   "id": "4f34058e",
   "metadata": {},
   "outputs": [
    {
     "data": {
      "text/plain": [
       "[['i', 'go', 'to', 'school'], ['i', 'like', 'pizza']]"
      ]
     },
     "execution_count": 56,
     "metadata": {},
     "output_type": "execute_result"
    }
   ],
   "source": [
    "token=Tokenizer()\n",
    "token.preprocessing(sequences)"
   ]
  },
  {
   "cell_type": "markdown",
   "id": "65187e3a",
   "metadata": {},
   "source": [
    "# 문제 2) TfidfVectorizer 생성하기"
   ]
  },
  {
   "cell_type": "code",
   "execution_count": 54,
   "id": "ea72e8c6",
   "metadata": {},
   "outputs": [],
   "source": [
    "#python\n",
    "class TfidfVectorizer:\n",
    "    def __init__(self, tokenizer):\n",
    "        self.tokenizer = tokenizer\n",
    "        self.fit_checker = False\n",
    "\n",
    "    def fit(self, sequences):\n",
    "        tokenized = self.tokenizer.fit_transform(sequences)\n",
    "        '''\n",
    "        문제 2-1번\n",
    "        '''\n",
    "        #idf\n",
    "        total_word_idx= np.unique(np.concatenate(tokenized).tolist())\n",
    "        N=len(tokenized) #문장 개수\n",
    "        idf=[]\n",
    "        \n",
    "        for idx in total_word_idx:\n",
    "            df=0\n",
    "            for token in tokenized:\n",
    "                if idx in token:\n",
    "                    df+=1\n",
    "            idf.append(ln(N/(df+1))) #자연로그\n",
    "        \n",
    "        self.idf=idf\n",
    "        self.total_word_idx=total_word_idx\n",
    "        self.fit_checker = True\n",
    "\n",
    "    def transform(self, sequences):\n",
    "        if self.fit_checker:\n",
    "            tokenized = self.tokenizer.transform(sequences)\n",
    "            '''\n",
    "            문제 2-2.\n",
    "            '''            \n",
    "            #tf\n",
    "            tf=[]\n",
    "            for token in tokenized:\n",
    "                token_tf=[]\n",
    "                for i in self.total_word_idx:\n",
    "                    token_tf.append(token.count(i))\n",
    "                tf.append(token_tf)\n",
    "                \n",
    "            #broadcasting\n",
    "            self.tfidf_matrix= (np.array(tf)*np.array([self.idf])).tolist() #nest list\n",
    "\n",
    "            return self.tfidf_matrix\n",
    "\n",
    "        else:\n",
    "            raise Exception(\"TfidfVectorizer instance is not fitted yet.\")\n",
    "            \n",
    "    def fit_transform(self, sequences):\n",
    "        self.fit(sequences)\n",
    "        return self.transform(sequences)"
   ]
  },
  {
   "cell_type": "code",
   "execution_count": 50,
   "id": "df9c3817",
   "metadata": {},
   "outputs": [
    {
     "data": {
      "text/plain": [
       "[[-0.40546510810816444, 0.0, 0.0, 0.0, 0.0, 0.0],\n",
       " [-0.40546510810816444, 0.0, 0.0, 0.0, 0.0, 0.0]]"
      ]
     },
     "execution_count": 50,
     "metadata": {},
     "output_type": "execute_result"
    }
   ],
   "source": [
    "tfidf=TfidfVectorizer(Tokenizer())\n",
    "tfidf.fit(sequences)\n",
    "tfidf.fit_transform(sequences)"
   ]
  },
  {
   "cell_type": "code",
   "execution_count": null,
   "id": "8fe14716",
   "metadata": {},
   "outputs": [],
   "source": []
  },
  {
   "cell_type": "code",
   "execution_count": null,
   "id": "bf3700c6",
   "metadata": {},
   "outputs": [],
   "source": []
  },
  {
   "cell_type": "code",
   "execution_count": null,
   "id": "6b8d7e5a",
   "metadata": {},
   "outputs": [],
   "source": []
  },
  {
   "cell_type": "code",
   "execution_count": 14,
   "id": "5a9f8565",
   "metadata": {},
   "outputs": [],
   "source": []
  },
  {
   "cell_type": "code",
   "execution_count": null,
   "id": "64db1d1d",
   "metadata": {},
   "outputs": [],
   "source": []
  }
 ],
 "metadata": {
  "kernelspec": {
   "display_name": "Python [conda env:tf25] *",
   "language": "python",
   "name": "conda-env-tf25-py"
  },
  "language_info": {
   "codemirror_mode": {
    "name": "ipython",
    "version": 3
   },
   "file_extension": ".py",
   "mimetype": "text/x-python",
   "name": "python",
   "nbconvert_exporter": "python",
   "pygments_lexer": "ipython3",
   "version": "3.9.0"
  }
 },
 "nbformat": 4,
 "nbformat_minor": 5
}
