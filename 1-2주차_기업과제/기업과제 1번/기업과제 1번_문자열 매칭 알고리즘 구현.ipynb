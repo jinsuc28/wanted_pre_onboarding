{
 "cells": [
  {
   "cell_type": "markdown",
   "id": "3033ed58",
   "metadata": {},
   "source": [
    "# 1번 문제"
   ]
  },
  {
   "cell_type": "code",
   "execution_count": 127,
   "id": "21390336",
   "metadata": {},
   "outputs": [],
   "source": [
    "def full_search(N,S,Q,word):\n",
    "    answer= [[0 for i in range(N)] for q in range(Q)]\n",
    "\n",
    "    for q in range(Q):\n",
    "        for i,s in enumerate(S):\n",
    "            if s in word[q]:\n",
    "                answer[q][i]='YES'\n",
    "            else:\n",
    "                answer[q][i]='NO'\n",
    "    return answer"
   ]
  },
  {
   "cell_type": "code",
   "execution_count": 128,
   "id": "0634aabf",
   "metadata": {},
   "outputs": [],
   "source": [
    "N,S = 9, ['aaa','aaaabb','aabbcc','abb','bcc','bbcc','aabbccdd','aaabb','cccd']\n",
    "Q,word =2,['aaaabbaabbccdd','aaaabbaabbccdd']"
   ]
  },
  {
   "cell_type": "code",
   "execution_count": 129,
   "id": "fe8c89b9",
   "metadata": {},
   "outputs": [
    {
     "data": {
      "text/plain": [
       "[['YES', 'YES', 'YES', 'YES', 'YES', 'YES', 'YES', 'YES', 'NO'],\n",
       " ['YES', 'YES', 'YES', 'YES', 'YES', 'YES', 'YES', 'YES', 'NO']]"
      ]
     },
     "execution_count": 129,
     "metadata": {},
     "output_type": "execute_result"
    }
   ],
   "source": [
    "full_search(N,S,Q,word)"
   ]
  },
  {
   "cell_type": "markdown",
   "id": "4e23dfed",
   "metadata": {},
   "source": [
    "# 2번 문제"
   ]
  },
  {
   "cell_type": "code",
   "execution_count": 130,
   "id": "4c93f15f",
   "metadata": {},
   "outputs": [],
   "source": [
    "# KMP를 이용하기 위한 table 전처리 함수\n",
    "def table_fn(pattern):\n",
    "    parttern_size = len(pattern)\n",
    "    table = [0 for _ in range(parttern_size)] # 패턴 저장용 테이블 \n",
    "    \n",
    "    j = 0 # 테이블 값과 인덱스 접근\n",
    "    for idx in range(1, parttern_size): \n",
    "        # j가 0이거나 idx와 j의 pattern 값이 같아질때까지 진행한다\n",
    "        while j > 0 and pattern[idx] != pattern[j]:\n",
    "            j = table[j-1]\n",
    "        \n",
    "        \n",
    "        if pattern[idx] == pattern[j] : # 값이 일치할 경우 진행\n",
    "            j += 1 # j값에 1을 더한 값을 table에 입력\n",
    "            table[idx] = j\n",
    "    return table\n",
    "\n",
    "def KMP(word, pattern):\n",
    "    # 패턴의 table 값 가져오기\n",
    "    table = table_fn(pattern)\n",
    "    \n",
    "    results = [] # 패턴과 일치하는 인덱스 가져오기\n",
    "    j = 0\n",
    "    \n",
    "    for idx in range(len(word)):\n",
    "        while j > 0 and word[idx] != pattern[j] : # word와 패턴이 일치하지 않는 경우 진행\n",
    "            j = table[j-1]\n",
    "        if word[idx] == pattern[j]:\n",
    "            if j == len(pattern)-1 : #j가 패턴 마지막에 이라면 word의 인덱스 값을 result에 넣음\n",
    "                results.append(idx-len(pattern)+2)\n",
    "                break #패턴당 첫번째 매칭 결과만 입력\n",
    "                \n",
    "            else:\n",
    "                j += 1 # 값이 일치했다면, j에 1증가\n",
    "    \n",
    "    return results\n",
    "\n",
    "\n",
    "def total(N,S,Q,word):\n",
    "    result=[[] for i in range(Q)] #word 수 Q만큼 리스트를 만듬\n",
    "    for q in range(Q):\n",
    "        print(f\"\\n {q} word {word[q]}\"+\"\\n\") #매칭할 word idx와 word 출력\n",
    "        for i in range(N):\n",
    "            result[q].append(KMP(word[q],S[i])) #pattern 와 매칭된 word idx를 result에 입력\n",
    "            if len(result[q][i]) == 0:\n",
    "                print(f'##POS ={None}, pattern = {S[i]}') ## 일치하는 idx가 없는 패턴일 경우 None출력\n",
    "            else:\n",
    "                print(f'##POS ={result[q][i]}, pattern = {S[i]}')"
   ]
  },
  {
   "cell_type": "code",
   "execution_count": 131,
   "id": "ce0e07f1",
   "metadata": {},
   "outputs": [],
   "source": [
    "N,S = 9, ['aaa','aaaabb','aabbcc','abb','bcc','bbcc','aabbccdd','aaabb','ccdc']\n",
    "Q,word =3,['aaaabbaabbccdd','aaaabbaabbccdd','aaaabbaabbccdd']"
   ]
  },
  {
   "cell_type": "code",
   "execution_count": 132,
   "id": "dc3f119b",
   "metadata": {},
   "outputs": [
    {
     "name": "stdout",
     "output_type": "stream",
     "text": [
      "\n",
      " 0 word aaaabbaabbccdd\n",
      "\n",
      "##POS =[1], pattern = aaa\n",
      "##POS =[1], pattern = aaaabb\n",
      "##POS =[7], pattern = aabbcc\n",
      "##POS =[4], pattern = abb\n",
      "##POS =[10], pattern = bcc\n",
      "##POS =[9], pattern = bbcc\n",
      "##POS =[7], pattern = aabbccdd\n",
      "##POS =[2], pattern = aaabb\n",
      "##POS =None, pattern = ccdc\n",
      "\n",
      " 1 word aaaabbaabbccdd\n",
      "\n",
      "##POS =[1], pattern = aaa\n",
      "##POS =[1], pattern = aaaabb\n",
      "##POS =[7], pattern = aabbcc\n",
      "##POS =[4], pattern = abb\n",
      "##POS =[10], pattern = bcc\n",
      "##POS =[9], pattern = bbcc\n",
      "##POS =[7], pattern = aabbccdd\n",
      "##POS =[2], pattern = aaabb\n",
      "##POS =None, pattern = ccdc\n",
      "\n",
      " 2 word aaaabbaabbccdd\n",
      "\n",
      "##POS =[1], pattern = aaa\n",
      "##POS =[1], pattern = aaaabb\n",
      "##POS =[7], pattern = aabbcc\n",
      "##POS =[4], pattern = abb\n",
      "##POS =[10], pattern = bcc\n",
      "##POS =[9], pattern = bbcc\n",
      "##POS =[7], pattern = aabbccdd\n",
      "##POS =[2], pattern = aaabb\n",
      "##POS =None, pattern = ccdc\n"
     ]
    }
   ],
   "source": [
    "total(N,S,Q,word)"
   ]
  },
  {
   "cell_type": "markdown",
   "id": "7dc27a5b",
   "metadata": {},
   "source": [
    "# 3번 문제"
   ]
  },
  {
   "cell_type": "code",
   "execution_count": 133,
   "id": "2fe8c44b",
   "metadata": {},
   "outputs": [],
   "source": [
    "# KMP를 이용하기 위한 table 전처리 함수\n",
    "def table_fn(pattern):\n",
    "    parttern_size = len(pattern)\n",
    "    table = [0 for _ in range(parttern_size)] # 패턴 저장용 테이블 \n",
    "    \n",
    "    j = 0 # 테이블 값과 인덱스 접근\n",
    "    for idx in range(1, parttern_size): \n",
    "        # j가 0이거나 idx와 j의 pattern 값이 같아질때까지 진행한다\n",
    "        while j > 0 and pattern[idx] != pattern[j]:\n",
    "            j = table[j-1]\n",
    "        \n",
    "        \n",
    "        if pattern[idx] == pattern[j] : # 값이 일치할 경우 진행\n",
    "            j += 1 # j값에 1을 더한 값을 table에 입력\n",
    "            table[idx] = j\n",
    "    return table\n",
    "\n",
    "def KMP(word, pattern):\n",
    "    # 패턴의 table 값 가져오기\n",
    "    table = table_fn(pattern)\n",
    "    \n",
    "    results = [] # 패턴과 일치하는 인덱스 가져오기\n",
    "    j = 0\n",
    "    \n",
    "    for idx in range(len(word)):\n",
    "        while j > 0 and word[idx] != pattern[j] : # word와 패턴이 일치하지 않는 경우 진행\n",
    "            j = table[j-1]\n",
    "        if word[idx] == pattern[j]:\n",
    "            if j == len(pattern)-1 : #j가 패턴 마지막에 이라면 word의 인덱스 값을 result에 넣음\n",
    "                results.append(idx-len(pattern)+2)\n",
    "                j = table[j] # 추가 매칭을 위해 j값 table의 인덱스로 변경\n",
    "            else:\n",
    "                j += 1 # 값이 일치했다면, j에 1증가\n",
    "    \n",
    "    return results\n",
    "\n",
    "def total(N,S,Q,word):\n",
    "    result=[[] for i in range(Q)] #word 수 Q만큼 리스트를 만듬\n",
    "    for q in range(Q):\n",
    "        print(f\"\\n {q} word {word[q]}\"+\"\\n\") #매칭할 word idx와 word 출력\n",
    "        for i in range(N):\n",
    "            result[q].append(KMP(word[q],S[i])) #pattern 와 매칭된 word idx를 result에 입력\n",
    "            if len(result[q][i]) == 0:\n",
    "                print(f'##POS ={None}, pattern = {S[i]}') ## 일치하는 idx가 없는 패턴일 경우 None출력\n",
    "            else:\n",
    "                print(f'##POS ={result[q][i]}, pattern = {S[i]}')"
   ]
  },
  {
   "cell_type": "code",
   "execution_count": 134,
   "id": "d1fbef4e",
   "metadata": {},
   "outputs": [],
   "source": [
    "N,S = 9, ['aaa','aaaabb','aabbcc','abb','bcc','bbcc','aabbccdd','aaabb','ccdcccc']\n",
    "Q,word =3,['aaaabbaabbccdd','aaaabbaabbccdd','aaaabbaabbccdd']"
   ]
  },
  {
   "cell_type": "code",
   "execution_count": 135,
   "id": "0457de91",
   "metadata": {},
   "outputs": [
    {
     "name": "stdout",
     "output_type": "stream",
     "text": [
      "\n",
      " 0 word aaaabbaabbccdd\n",
      "\n",
      "##POS =[1, 2], pattern = aaa\n",
      "##POS =[1], pattern = aaaabb\n",
      "##POS =[7], pattern = aabbcc\n",
      "##POS =[4, 8], pattern = abb\n",
      "##POS =[10], pattern = bcc\n",
      "##POS =[9], pattern = bbcc\n",
      "##POS =[7], pattern = aabbccdd\n",
      "##POS =[2], pattern = aaabb\n",
      "##POS =None, pattern = ccdcccc\n",
      "\n",
      " 1 word aaaabbaabbccdd\n",
      "\n",
      "##POS =[1, 2], pattern = aaa\n",
      "##POS =[1], pattern = aaaabb\n",
      "##POS =[7], pattern = aabbcc\n",
      "##POS =[4, 8], pattern = abb\n",
      "##POS =[10], pattern = bcc\n",
      "##POS =[9], pattern = bbcc\n",
      "##POS =[7], pattern = aabbccdd\n",
      "##POS =[2], pattern = aaabb\n",
      "##POS =None, pattern = ccdcccc\n",
      "\n",
      " 2 word aaaabbaabbccdd\n",
      "\n",
      "##POS =[1, 2], pattern = aaa\n",
      "##POS =[1], pattern = aaaabb\n",
      "##POS =[7], pattern = aabbcc\n",
      "##POS =[4, 8], pattern = abb\n",
      "##POS =[10], pattern = bcc\n",
      "##POS =[9], pattern = bbcc\n",
      "##POS =[7], pattern = aabbccdd\n",
      "##POS =[2], pattern = aaabb\n",
      "##POS =None, pattern = ccdcccc\n"
     ]
    }
   ],
   "source": [
    "total(N,S,Q,word)"
   ]
  }
 ],
 "metadata": {
  "kernelspec": {
   "display_name": "Python [conda env:tf25] *",
   "language": "python",
   "name": "conda-env-tf25-py"
  },
  "language_info": {
   "codemirror_mode": {
    "name": "ipython",
    "version": 3
   },
   "file_extension": ".py",
   "mimetype": "text/x-python",
   "name": "python",
   "nbconvert_exporter": "python",
   "pygments_lexer": "ipython3",
   "version": "3.9.0"
  }
 },
 "nbformat": 4,
 "nbformat_minor": 5
}
